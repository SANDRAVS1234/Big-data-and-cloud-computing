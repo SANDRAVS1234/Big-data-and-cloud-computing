{
  "nbformat": 4,
  "nbformat_minor": 0,
  "metadata": {
    "colab": {
      "provenance": []
    },
    "kernelspec": {
      "name": "python3",
      "display_name": "Python 3"
    },
    "language_info": {
      "name": "python"
    }
  },
  "cells": [
    {
      "cell_type": "code",
      "source": [
        "import requests\n",
        "import pandas as pd\n",
        "\n",
        "API_KEY = \"eefb8c41863048df9e948694f8b52e6a\"\n",
        "url = f\"https://newsapi.org/v2/top-headlines?language=en&apiKey={API_KEY}\"\n",
        "\n",
        "response = requests.get(url).json()\n",
        "headlines = [article['title'] for article in response['articles']]\n",
        "df = pd.DataFrame(headlines, columns=['headline'])\n"
      ],
      "metadata": {
        "id": "9qmBy29n2FEa"
      },
      "execution_count": 43,
      "outputs": []
    },
    {
      "cell_type": "code",
      "source": [
        "# Example labeled data\n",
        "# 1 = Positive, 0 = Negative\n",
        "data = spark.createDataFrame([\n",
        "    (\"Stock prices soar today\", 1),\n",
        "    (\"Market crashes amid fears\", 0),\n",
        "    (\"Tech sector booming\", 1),\n",
        "    (\"Economic slowdown expected\", 0)\n",
        "], [\"headline\", \"label\"])\n"
      ],
      "metadata": {
        "id": "ApCaTTSa3HVd"
      },
      "execution_count": 45,
      "outputs": []
    },
    {
      "cell_type": "code",
      "source": [
        "!pip install vaderSentiment"
      ],
      "metadata": {
        "colab": {
          "base_uri": "https://localhost:8080/"
        },
        "id": "9EVQoAAz3tnJ",
        "outputId": "a969fd6b-13f3-4857-8bce-97ba02abcda4"
      },
      "execution_count": 50,
      "outputs": [
        {
          "output_type": "stream",
          "name": "stdout",
          "text": [
            "Collecting vaderSentiment\n",
            "  Downloading vaderSentiment-3.3.2-py2.py3-none-any.whl.metadata (572 bytes)\n",
            "Requirement already satisfied: requests in /usr/local/lib/python3.12/dist-packages (from vaderSentiment) (2.32.4)\n",
            "Requirement already satisfied: charset_normalizer<4,>=2 in /usr/local/lib/python3.12/dist-packages (from requests->vaderSentiment) (3.4.3)\n",
            "Requirement already satisfied: idna<4,>=2.5 in /usr/local/lib/python3.12/dist-packages (from requests->vaderSentiment) (3.10)\n",
            "Requirement already satisfied: urllib3<3,>=1.21.1 in /usr/local/lib/python3.12/dist-packages (from requests->vaderSentiment) (2.5.0)\n",
            "Requirement already satisfied: certifi>=2017.4.17 in /usr/local/lib/python3.12/dist-packages (from requests->vaderSentiment) (2025.8.3)\n",
            "Downloading vaderSentiment-3.3.2-py2.py3-none-any.whl (125 kB)\n",
            "\u001b[2K   \u001b[90m━━━━━━━━━━━━━━━━━━━━━━━━━━━━━━━━━━━━━━━━\u001b[0m \u001b[32m126.0/126.0 kB\u001b[0m \u001b[31m3.2 MB/s\u001b[0m eta \u001b[36m0:00:00\u001b[0m\n",
            "\u001b[?25hInstalling collected packages: vaderSentiment\n",
            "Successfully installed vaderSentiment-3.3.2\n"
          ]
        }
      ]
    },
    {
      "cell_type": "code",
      "source": [
        "from pyspark.sql.functions import udf\n",
        "from pyspark.sql.types import IntegerType\n",
        "from vaderSentiment.vaderSentiment import SentimentIntensityAnalyzer\n",
        "\n",
        "analyzer = SentimentIntensityAnalyzer()\n",
        "\n",
        "# Define UDF to convert sentiment to 0/1\n",
        "def sentiment_label(text):\n",
        "    score = analyzer.polarity_scores(text)['compound']\n",
        "    return 1 if score >= 0 else 0\n",
        "\n",
        "sentiment_udf = udf(sentiment_label, IntegerType())\n",
        "data = data.withColumn(\"label\", sentiment_udf(data[\"headline\"]))\n"
      ],
      "metadata": {
        "id": "gJC2qSoG3YiR"
      },
      "execution_count": 51,
      "outputs": []
    },
    {
      "cell_type": "code",
      "metadata": {
        "colab": {
          "base_uri": "https://localhost:8080/"
        },
        "id": "f1ab8760",
        "outputId": "d2c3e018-15dc-4f88-c19e-d50232c4095d"
      },
      "source": [
        "pipeline = Pipeline(stages=[tokenizer, remover, hashingTF, idf, lr])\n",
        "model = pipeline.fit(data)  # should work now\n",
        "predictions = model.transform(data)\n",
        "predictions.show()\n"
      ],
      "execution_count": 52,
      "outputs": [
        {
          "output_type": "stream",
          "name": "stdout",
          "text": [
            "+--------------------+-----+--------------------+--------------------+--------------------+--------------------+--------------------+--------------------+----------+\n",
            "|            headline|label|               words|            filtered|         rawFeatures|            features|       rawPrediction|         probability|prediction|\n",
            "+--------------------+-----+--------------------+--------------------+--------------------+--------------------+--------------------+--------------------+----------+\n",
            "|Rihanna welcomes ...|    1|[rihanna, welcome...|[rihanna, welcome...|(262144,[4308,748...|(262144,[4308,748...|[-20.513237959292...|[1.23371245096356...|       1.0|\n",
            "|Starbucks announc...|    1|[starbucks, annou...|[starbucks, annou...|(262144,[17128,38...|(262144,[17128,38...|[-19.591278896050...|[3.10181349177638...|       1.0|\n",
            "|Mystery drones ov...|    0|[mystery, drones,...|[mystery, drones,...|(262144,[6,1934,2...|(262144,[6,1934,2...|[20.6102468017298...|[0.99999999888034...|       0.0|\n",
            "|White House direc...|    1|[white, house, di...|[white, house, di...|(262144,[27266,38...|(262144,[27266,38...|[-19.998222795145...|[2.06481996736133...|       1.0|\n",
            "|Why Big Tech’s ti...|    1|[why, big, tech’s...|[big, tech’s, tin...|(262144,[32817,33...|(262144,[32817,33...|[-20.430644607938...|[1.33993516393339...|       1.0|\n",
            "|Ohio police offic...|    0|[ohio, police, of...|[ohio, police, of...|(262144,[6872,267...|(262144,[6872,267...|[20.7340479003519...|[0.99999999901072...|       0.0|\n",
            "|\"Russia is a real...|    1|[\"russia, is, a, ...|[\"russia, real, b...|(262144,[5578,181...|(262144,[5578,181...|[-19.998222795145...|[2.06481996736133...|       1.0|\n",
            "|Nicolas Sarkozy f...|    0|[nicolas, sarkozy...|[nicolas, sarkozy...|(262144,[24778,38...|(262144,[24778,38...|[19.6600042582850...|[0.99999999710419...|       0.0|\n",
            "|What we know abou...|    0|[what, we, know, ...|[know, suspect, i...|(262144,[38640,85...|(262144,[38640,85...|[19.6656374779911...|[0.99999999712046...|       0.0|\n",
            "|A weakened storm ...|    0|[a, weakened, sto...|[weakened, storm,...|(262144,[25371,38...|(262144,[25371,38...|[20.3254472057699...|[0.99999999851142...|       0.0|\n",
            "|The three-headed ...|    0|[the, three-heade...|[three-headed, pr...|(262144,[38640,78...|(262144,[38640,78...|[19.8553841996989...|[0.99999999761814...|       0.0|\n",
            "|Paul Thomas Ander...|    0|[paul, thomas, an...|[paul, thomas, an...|(262144,[10812,21...|(262144,[10812,21...|[20.0435703700939...|[0.99999999802672...|       0.0|\n",
            "|‘There’s The Thre...|    0|[‘there’s, the, t...|[‘there’s, threat...|(262144,[18579,38...|(262144,[18579,38...|[20.2045484674168...|[0.99999999832012...|       0.0|\n",
            "|Stock futures are...|    1|[stock, futures, ...|[stock, futures, ...|(262144,[18697,21...|(262144,[18697,21...|[-20.300237305433...|[1.52657784859023...|       1.0|\n",
            "|Breakthrough Gene...|    1|[breakthrough, ge...|[breakthrough, ge...|(262144,[17058,23...|(262144,[17058,23...|[-19.806766018152...|[2.50052276569680...|       1.0|\n",
            "|At long last, you...|    1|[at, long, last,,...|[long, last,, cal...|(262144,[18314,38...|(262144,[18314,38...|[-20.168334136012...|[1.74182201286008...|       1.0|\n",
            "|Sean ‘Diddy’ Comb...|    0|[sean, ‘diddy’, c...|[sean, ‘diddy’, c...|(262144,[18615,31...|(262144,[18615,31...|[20.1807281525768...|[0.99999999827963...|       0.0|\n",
            "|‘South Park’ Puts...|    1|[‘south, park’, p...|[‘south, park’, p...|(262144,[38640,50...|(262144,[38640,50...|[-20.513237959292...|[1.23371245096356...|       1.0|\n",
            "+--------------------+-----+--------------------+--------------------+--------------------+--------------------+--------------------+--------------------+----------+\n",
            "\n"
          ]
        }
      ]
    },
    {
      "cell_type": "code",
      "source": [],
      "metadata": {
        "id": "Dy6yYXFN436R"
      },
      "execution_count": null,
      "outputs": []
    }
  ]
}